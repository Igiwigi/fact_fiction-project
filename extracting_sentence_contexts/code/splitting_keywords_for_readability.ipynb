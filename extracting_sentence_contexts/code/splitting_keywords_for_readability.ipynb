{
 "cells": [
  {
   "cell_type": "markdown",
   "metadata": {},
   "source": [
    "reforming the data into something potentially easier to leaf through: \n",
    "separating context from the csv/xlsx into their own entries so they can be separately opened which will hopefully make it easier to read and rate by hand\n",
    "(is this actually any useful?)"
   ]
  },
  {
   "cell_type": "code",
   "execution_count": 1,
   "metadata": {},
   "outputs": [],
   "source": [
    "import pandas as pd\n",
    "import xlsxwriter\n",
    "import os\n",
    "import openpyxl\n",
    "\n",
    "def split_contexts(input_file, output_excel_file, contexts_directory, subfolder_name):\n",
    "    \"\"\"\n",
    "    Split contexts from an Excel file into separate text files and save a reduced version of the data.\n",
    "   \n",
    "    Parameters:\n",
    "    - input_file (str): Path to the input Excel file with contexts.\n",
    "    - output_excel_file (str): Path to the output Excel file without the context column.\n",
    "    - contexts_directory (str): Directory where the context text files will be saved.\n",
    "    - subfolder_name (str): Name of the subfolder within the contexts_directory where the context files will be saved.\n",
    "    \"\"\"\n",
    "    df = pd.read_excel(input_file)\n",
    "   \n",
    "    df['ID'] = range(1, len(df) + 1)\n",
    "   \n",
    "    df_no_context = df[['ID', 'Date', 'Filename', 'Keyword', 'Author', 'Title']]\n",
    "    df_no_context.to_excel(output_excel_file, index=False)\n",
    "   \n",
    "    full_contexts_directory = os.path.join(contexts_directory, subfolder_name)\n",
    "    os.makedirs(full_contexts_directory, exist_ok=True)\n",
    "   \n",
    "    context_files_count = 0\n",
    "   \n",
    "    for _, row in df.iterrows():\n",
    "        context_id = row['ID']\n",
    "        context_text = row['Context']\n",
    "        text_filename = os.path.join(full_contexts_directory, f'{context_id}.txt')\n",
    "       \n",
    "        with open(text_filename, 'w', encoding='utf-8') as file:\n",
    "            file.write(context_text)\n",
    "        \n",
    "        context_files_count += 1\n",
    "   \n",
    "    # If no context files were created, add a file indicating no keywords were found\n",
    "    if context_files_count == 0:\n",
    "        no_keyword_file = os.path.join(full_contexts_directory, \"no_keywords_found.txt\")\n",
    "        with open(no_keyword_file, 'w', encoding='utf-8') as file:\n",
    "            file.write(\"No keywords were found :(\")\n",
    "   \n",
    "    print(\"Processing complete.\")"
   ]
  },
  {
   "cell_type": "code",
   "execution_count": 2,
   "metadata": {},
   "outputs": [
    {
     "name": "stdout",
     "output_type": "stream",
     "text": [
      "Processing complete.\n",
      "Processing complete.\n",
      "Processing complete.\n",
      "Processing complete.\n",
      "Processing complete.\n"
     ]
    }
   ],
   "source": [
    "contexts_directory = '../data_to_view/separated_contexts'\n",
    "\n",
    "#split contexts rsta\n",
    "split_contexts(\n",
    "    input_file = '../data_to_view/contexts_all_together/excel_ver/contexts_RSTA.xlsx',\n",
    "    output_excel_file = '../data_to_view/separated_contexts/RSTA.xlsx',\n",
    "    contexts_directory = contexts_directory,\n",
    "    subfolder_name = 'royal_society_RSTA'\n",
    ")\n",
    "\n",
    "#split contexts rstb\n",
    "split_contexts(\n",
    "    input_file = '../data_to_view/contexts_all_together/excel_ver/contexts_RSTB.xlsx',\n",
    "    output_excel_file = '../data_to_view/separated_contexts/RSTB.xlsx',\n",
    "    contexts_directory = contexts_directory,\n",
    "    subfolder_name = 'royal_society_RSTB'\n",
    ")\n",
    "\n",
    "#split contexts rstl\n",
    "split_contexts(\n",
    "    input_file = '../data_to_view/contexts_all_together/excel_ver/contexts_RSTL.xlsx',\n",
    "    output_excel_file = '../data_to_view/separated_contexts/RSTL.xlsx',\n",
    "    contexts_directory = contexts_directory,\n",
    "    subfolder_name = 'royal_society_RSTL'\n",
    ")\n",
    "\n",
    "#spectator\n",
    "split_contexts(\n",
    "    input_file = '../data_to_view/contexts_all_together/excel_ver/contexts_spectator.xlsx',\n",
    "    output_excel_file = '../data_to_view/separated_contexts/spectator.xlsx',\n",
    "    contexts_directory = contexts_directory,\n",
    "    subfolder_name = 'spectator'\n",
    ")\n",
    "\n",
    "#general magazine (albeit empty!!)\n",
    "split_contexts(\n",
    "    input_file = '../data_to_view/contexts_all_together/excel_ver/contexts_general_magazine.xlsx',\n",
    "    output_excel_file = '../data_to_view/separated_contexts/general_magazine.xlsx',\n",
    "    contexts_directory = contexts_directory,\n",
    "    subfolder_name = 'general_magazine'\n",
    ")"
   ]
  }
 ],
 "metadata": {
  "kernelspec": {
   "display_name": "3.10.7",
   "language": "python",
   "name": "python3"
  },
  "language_info": {
   "codemirror_mode": {
    "name": "ipython",
    "version": 3
   },
   "file_extension": ".py",
   "mimetype": "text/x-python",
   "name": "python",
   "nbconvert_exporter": "python",
   "pygments_lexer": "ipython3",
   "version": "3.10.7"
  }
 },
 "nbformat": 4,
 "nbformat_minor": 2
}
