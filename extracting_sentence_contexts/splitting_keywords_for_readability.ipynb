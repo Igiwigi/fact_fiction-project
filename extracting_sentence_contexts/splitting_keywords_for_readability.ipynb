{
 "cells": [
  {
   "cell_type": "markdown",
   "metadata": {},
   "source": [
    "reforming the data into something easier to leaf through: separating context from the fact_fiction_words_found into its own entries so they can be separately opened which will hopefully make it easier to read and rate by hand"
   ]
  },
  {
   "cell_type": "code",
   "execution_count": 1,
   "metadata": {},
   "outputs": [],
   "source": [
    "import pandas as pd\n",
    "\n",
    "def convert_csv_to_excel(input_csv, output_excel):\n",
    "    \"\"\"\n",
    "    Convert a CSV file to an Excel file, ensuring that context text is formatted as plain text in Excel.\n",
    "    \n",
    "    Parameters:\n",
    "    - input_csv (str): Path to the input CSV file.\n",
    "    - output_excel (str): Path to the output Excel file.\n",
    "    \"\"\"\n",
    "    # Read the CSV file\n",
    "    df = pd.read_csv(input_csv)\n",
    "    \n",
    "    # Function to ensure that text is formatted as plain text in Excel\n",
    "    def format_as_text(value):\n",
    "        \"\"\"Ensure that the text is formatted as plain text in Excel.\"\"\"\n",
    "        if isinstance(value, str) and value.startswith('='):\n",
    "            return f\"'{value}\"  # Prefix with a single quote to force text format\n",
    "        return value\n",
    "\n",
    "    # Apply the formatting function to the 'Context' column\n",
    "    df['Context'] = df['Context'].apply(format_as_text)\n",
    "    \n",
    "    # Save to Excel file\n",
    "    df.to_excel(output_excel, index=False, engine='xlsxwriter')\n",
    "    \n",
    "    print(f\"CSV data has been successfully converted to {output_excel}.\")"
   ]
  },
  {
   "cell_type": "code",
   "execution_count": 16,
   "metadata": {},
   "outputs": [
    {
     "name": "stdout",
     "output_type": "stream",
     "text": [
      "CSV data has been successfully converted to data_for_viewing/extracted_raw/ff_royal_society_words_found_full.xlsx.\n",
      "CSV data has been successfully converted to data_for_viewing/extracted_raw/ff_general_magazine_words_found_full.xlsx.\n",
      "CSV data has been successfully converted to data_for_viewing/extracted_raw/ff_spectator_words_found_full.xlsx.\n"
     ]
    }
   ],
   "source": [
    "convert_csv_to_excel('data_for_viewing/extracted_raw/extracted_contexts_from_rs_text.csv', 'data_for_viewing/extracted_raw/ff_royal_society_words_found_full.xlsx') #royal society\n",
    "convert_csv_to_excel('data_for_viewing/extracted_raw/extracted_contexts_from_general_magazine.csv', 'data_for_viewing/extracted_raw/ff_general_magazine_words_found_full.xlsx') #general magazine\n",
    "convert_csv_to_excel('data_for_viewing/extracted_raw/extracted_contexts_from_spectator.csv', 'data_for_viewing/extracted_raw/ff_spectator_words_found_full.xlsx') #spectator\n",
    "\n"
   ]
  },
  {
   "cell_type": "code",
   "execution_count": 2,
   "metadata": {},
   "outputs": [
    {
     "name": "stdout",
     "output_type": "stream",
     "text": [
      "CSV data has been successfully converted to data_for_viewing/extracted_raw/ff_royal_society_words_found_full_RSTA.xlsx.\n"
     ]
    }
   ],
   "source": [
    "convert_csv_to_excel('data_for_viewing/extracted_raw/extracted_contexts_from_rs_text_RSTA.csv', 'data_for_viewing/extracted_raw/ff_royal_society_words_found_full_RSTA.xlsx') #royal society\n"
   ]
  },
  {
   "cell_type": "code",
   "execution_count": 3,
   "metadata": {},
   "outputs": [],
   "source": [
    "import pandas as pd\n",
    "import os\n",
    "\n",
    "def split_contexts(input_file, output_excel_file, contexts_directory, subfolder_name):\n",
    "    \"\"\"\n",
    "    Split contexts from an Excel file into separate text files and save a reduced version of the data.\n",
    "   \n",
    "    Parameters:\n",
    "    - input_file (str): Path to the input Excel file with contexts.\n",
    "    - output_excel_file (str): Path to the output Excel file without the context column.\n",
    "    - contexts_directory (str): Directory where the context text files will be saved.\n",
    "    - subfolder_name (str): Name of the subfolder within the contexts_directory where the context files will be saved.\n",
    "    \"\"\"\n",
    "    df = pd.read_excel(input_file)\n",
    "   \n",
    "    df['ID'] = range(1, len(df) + 1)\n",
    "   \n",
    "    df_no_context = df[['ID', 'Date', 'Filename', 'Keyword', 'Author', 'Title']]\n",
    "    df_no_context.to_excel(output_excel_file, index=False)\n",
    "   \n",
    "    full_contexts_directory = os.path.join(contexts_directory, subfolder_name)\n",
    "    os.makedirs(full_contexts_directory, exist_ok=True)\n",
    "   \n",
    "    # Counter for the number of context files created\n",
    "    context_files_count = 0\n",
    "   \n",
    "    for _, row in df.iterrows():\n",
    "        context_id = row['ID']\n",
    "        context_text = row['Context']\n",
    "        text_filename = os.path.join(full_contexts_directory, f'{context_id}.txt')\n",
    "       \n",
    "        with open(text_filename, 'w', encoding='utf-8') as file:\n",
    "            file.write(context_text)\n",
    "        \n",
    "        context_files_count += 1\n",
    "   \n",
    "    # If no context files were created, add a file indicating no keywords were found\n",
    "    if context_files_count == 0:\n",
    "        no_keyword_file = os.path.join(full_contexts_directory, \"no_keywords_found.txt\")\n",
    "        with open(no_keyword_file, 'w', encoding='utf-8') as file:\n",
    "            file.write(\"No keywords were found :(\")\n",
    "   \n",
    "    print(\"Processing complete.\")"
   ]
  },
  {
   "cell_type": "code",
   "execution_count": 18,
   "metadata": {},
   "outputs": [
    {
     "name": "stdout",
     "output_type": "stream",
     "text": [
      "Processing complete.\n",
      "Processing complete.\n",
      "Processing complete.\n"
     ]
    }
   ],
   "source": [
    "#royal society\n",
    "split_contexts(\n",
    "    'data_for_viewing/extracted_raw/ff_royal_society_words_found_full.xlsx',\n",
    "    'data_for_viewing/ff_royal_society_words_found_context_separate.xlsx',\n",
    "    'data_for_viewing/contexts',\n",
    "    'royal_society_RSTL'\n",
    ")\n",
    "\n",
    "#general magazine\n",
    "split_contexts(\n",
    "    'data_for_viewing/extracted_raw/ff_general_magazine_words_found_full.xlsx',\n",
    "    'data_for_viewing/ff_general_magazine_words_found_context_separate.xlsx',\n",
    "    'data_for_viewing/contexts',\n",
    "    'general_magazine'\n",
    ") #completely empty?\n",
    "\n",
    "#spectator\n",
    "split_contexts(\n",
    "    'data_for_viewing/extracted_raw/ff_spectator_words_found_full.xlsx',\n",
    "    'data_for_viewing/ff_spectator_words_found_context_separate.xlsx',\n",
    "    'data_for_viewing/contexts',\n",
    "    'spectator'\n",
    ")"
   ]
  },
  {
   "cell_type": "code",
   "execution_count": 5,
   "metadata": {},
   "outputs": [
    {
     "name": "stdout",
     "output_type": "stream",
     "text": [
      "Processing complete.\n"
     ]
    }
   ],
   "source": [
    "#royal society\n",
    "split_contexts(\n",
    "    'data_for_viewing/extracted_raw/ff_royal_society_words_found_full_RSTA.xlsx',\n",
    "    'data_for_viewing/ff_royal_society_words_found_context_separate_RSTA.xlsx',\n",
    "    'data_for_viewing/contexts',\n",
    "    'royal_society_RSTA'\n",
    ")"
   ]
  }
 ],
 "metadata": {
  "kernelspec": {
   "display_name": "Python 3",
   "language": "python",
   "name": "python3"
  },
  "language_info": {
   "codemirror_mode": {
    "name": "ipython",
    "version": 3
   },
   "file_extension": ".py",
   "mimetype": "text/x-python",
   "name": "python",
   "nbconvert_exporter": "python",
   "pygments_lexer": "ipython3",
   "version": "3.9.10"
  }
 },
 "nbformat": 4,
 "nbformat_minor": 2
}
